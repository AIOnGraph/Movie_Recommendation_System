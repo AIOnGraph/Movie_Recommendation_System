{
 "cells": [
  {
   "cell_type": "code",
   "execution_count": 76,
   "metadata": {},
   "outputs": [],
   "source": [
    "import pandas as pd\n",
    "from sklearn.metrics.pairwise import cosine_similarity\n",
    "from sklearn.feature_extraction.text import CountVectorizer\n",
    "import joblib"
   ]
  },
  {
   "cell_type": "code",
   "execution_count": 77,
   "metadata": {},
   "outputs": [],
   "source": [
    "movies=pd.read_csv('IMDb_All_Genres_etf_clean1.csv')"
   ]
  },
  {
   "cell_type": "code",
   "execution_count": 78,
   "metadata": {},
   "outputs": [
    {
     "data": {
      "text/html": [
       "<div>\n",
       "<style scoped>\n",
       "    .dataframe tbody tr th:only-of-type {\n",
       "        vertical-align: middle;\n",
       "    }\n",
       "\n",
       "    .dataframe tbody tr th {\n",
       "        vertical-align: top;\n",
       "    }\n",
       "\n",
       "    .dataframe thead th {\n",
       "        text-align: right;\n",
       "    }\n",
       "</style>\n",
       "<table border=\"1\" class=\"dataframe\">\n",
       "  <thead>\n",
       "    <tr style=\"text-align: right;\">\n",
       "      <th></th>\n",
       "      <th>Movie_Title</th>\n",
       "      <th>Year</th>\n",
       "      <th>Director</th>\n",
       "      <th>Actors</th>\n",
       "      <th>Rating</th>\n",
       "      <th>Runtime(Mins)</th>\n",
       "      <th>Censor</th>\n",
       "      <th>Total_Gross</th>\n",
       "      <th>main_genre</th>\n",
       "      <th>side_genre</th>\n",
       "    </tr>\n",
       "  </thead>\n",
       "  <tbody>\n",
       "    <tr>\n",
       "      <th>0</th>\n",
       "      <td>Kantara</td>\n",
       "      <td>2022</td>\n",
       "      <td>Rishab Shetty</td>\n",
       "      <td>Rishab Shetty, Sapthami Gowda, Kishore Kumar G...</td>\n",
       "      <td>9.3</td>\n",
       "      <td>148</td>\n",
       "      <td>UA</td>\n",
       "      <td>Gross Unkown</td>\n",
       "      <td>Action</td>\n",
       "      <td>Adventure,  Drama</td>\n",
       "    </tr>\n",
       "    <tr>\n",
       "      <th>1</th>\n",
       "      <td>The Dark Knight</td>\n",
       "      <td>2008</td>\n",
       "      <td>Christopher Nolan</td>\n",
       "      <td>Christian Bale, Heath Ledger, Aaron Eckhart, M...</td>\n",
       "      <td>9.0</td>\n",
       "      <td>152</td>\n",
       "      <td>UA</td>\n",
       "      <td>$534.86M</td>\n",
       "      <td>Action</td>\n",
       "      <td>Crime,  Drama</td>\n",
       "    </tr>\n",
       "    <tr>\n",
       "      <th>2</th>\n",
       "      <td>The Lord of the Rings: The Return of the King</td>\n",
       "      <td>2003</td>\n",
       "      <td>Peter Jackson</td>\n",
       "      <td>Elijah Wood, Viggo Mortensen, Ian McKellen, Or...</td>\n",
       "      <td>9.0</td>\n",
       "      <td>201</td>\n",
       "      <td>U</td>\n",
       "      <td>$377.85M</td>\n",
       "      <td>Action</td>\n",
       "      <td>Adventure,  Drama</td>\n",
       "    </tr>\n",
       "    <tr>\n",
       "      <th>3</th>\n",
       "      <td>Inception</td>\n",
       "      <td>2010</td>\n",
       "      <td>Christopher Nolan</td>\n",
       "      <td>Leonardo DiCaprio, Joseph Gordon-Levitt, Ellio...</td>\n",
       "      <td>8.8</td>\n",
       "      <td>148</td>\n",
       "      <td>UA</td>\n",
       "      <td>$292.58M</td>\n",
       "      <td>Action</td>\n",
       "      <td>Adventure,  Sci-Fi</td>\n",
       "    </tr>\n",
       "    <tr>\n",
       "      <th>4</th>\n",
       "      <td>The Lord of the Rings: The Two Towers</td>\n",
       "      <td>2002</td>\n",
       "      <td>Peter Jackson</td>\n",
       "      <td>Elijah Wood, Ian McKellen, Viggo Mortensen, Or...</td>\n",
       "      <td>8.8</td>\n",
       "      <td>179</td>\n",
       "      <td>UA</td>\n",
       "      <td>$342.55M</td>\n",
       "      <td>Action</td>\n",
       "      <td>Adventure,  Drama</td>\n",
       "    </tr>\n",
       "  </tbody>\n",
       "</table>\n",
       "</div>"
      ],
      "text/plain": [
       "                                     Movie_Title  Year           Director  \\\n",
       "0                                        Kantara  2022      Rishab Shetty   \n",
       "1                                The Dark Knight  2008  Christopher Nolan   \n",
       "2  The Lord of the Rings: The Return of the King  2003      Peter Jackson   \n",
       "3                                      Inception  2010  Christopher Nolan   \n",
       "4          The Lord of the Rings: The Two Towers  2002      Peter Jackson   \n",
       "\n",
       "                                              Actors  Rating  Runtime(Mins)  \\\n",
       "0  Rishab Shetty, Sapthami Gowda, Kishore Kumar G...     9.3            148   \n",
       "1  Christian Bale, Heath Ledger, Aaron Eckhart, M...     9.0            152   \n",
       "2  Elijah Wood, Viggo Mortensen, Ian McKellen, Or...     9.0            201   \n",
       "3  Leonardo DiCaprio, Joseph Gordon-Levitt, Ellio...     8.8            148   \n",
       "4  Elijah Wood, Ian McKellen, Viggo Mortensen, Or...     8.8            179   \n",
       "\n",
       "  Censor   Total_Gross main_genre           side_genre  \n",
       "0     UA  Gross Unkown     Action    Adventure,  Drama  \n",
       "1     UA      $534.86M     Action        Crime,  Drama  \n",
       "2      U      $377.85M     Action    Adventure,  Drama  \n",
       "3     UA      $292.58M     Action   Adventure,  Sci-Fi  \n",
       "4     UA      $342.55M     Action    Adventure,  Drama  "
      ]
     },
     "execution_count": 78,
     "metadata": {},
     "output_type": "execute_result"
    }
   ],
   "source": [
    "movies.head()"
   ]
  },
  {
   "cell_type": "code",
   "execution_count": 79,
   "metadata": {},
   "outputs": [
    {
     "data": {
      "text/html": [
       "<div>\n",
       "<style scoped>\n",
       "    .dataframe tbody tr th:only-of-type {\n",
       "        vertical-align: middle;\n",
       "    }\n",
       "\n",
       "    .dataframe tbody tr th {\n",
       "        vertical-align: top;\n",
       "    }\n",
       "\n",
       "    .dataframe thead th {\n",
       "        text-align: right;\n",
       "    }\n",
       "</style>\n",
       "<table border=\"1\" class=\"dataframe\">\n",
       "  <thead>\n",
       "    <tr style=\"text-align: right;\">\n",
       "      <th></th>\n",
       "      <th>Year</th>\n",
       "      <th>Rating</th>\n",
       "      <th>Runtime(Mins)</th>\n",
       "    </tr>\n",
       "  </thead>\n",
       "  <tbody>\n",
       "    <tr>\n",
       "      <th>count</th>\n",
       "      <td>5562.000000</td>\n",
       "      <td>5562.000000</td>\n",
       "      <td>5562.000000</td>\n",
       "    </tr>\n",
       "    <tr>\n",
       "      <th>mean</th>\n",
       "      <td>2002.792521</td>\n",
       "      <td>6.755861</td>\n",
       "      <td>112.226717</td>\n",
       "    </tr>\n",
       "    <tr>\n",
       "      <th>std</th>\n",
       "      <td>16.143990</td>\n",
       "      <td>0.937133</td>\n",
       "      <td>21.612655</td>\n",
       "    </tr>\n",
       "    <tr>\n",
       "      <th>min</th>\n",
       "      <td>1920.000000</td>\n",
       "      <td>1.000000</td>\n",
       "      <td>45.000000</td>\n",
       "    </tr>\n",
       "    <tr>\n",
       "      <th>25%</th>\n",
       "      <td>1997.000000</td>\n",
       "      <td>6.200000</td>\n",
       "      <td>97.000000</td>\n",
       "    </tr>\n",
       "    <tr>\n",
       "      <th>50%</th>\n",
       "      <td>2007.000000</td>\n",
       "      <td>6.800000</td>\n",
       "      <td>108.000000</td>\n",
       "    </tr>\n",
       "    <tr>\n",
       "      <th>75%</th>\n",
       "      <td>2014.000000</td>\n",
       "      <td>7.400000</td>\n",
       "      <td>123.000000</td>\n",
       "    </tr>\n",
       "    <tr>\n",
       "      <th>max</th>\n",
       "      <td>2022.000000</td>\n",
       "      <td>9.300000</td>\n",
       "      <td>321.000000</td>\n",
       "    </tr>\n",
       "  </tbody>\n",
       "</table>\n",
       "</div>"
      ],
      "text/plain": [
       "              Year       Rating  Runtime(Mins)\n",
       "count  5562.000000  5562.000000    5562.000000\n",
       "mean   2002.792521     6.755861     112.226717\n",
       "std      16.143990     0.937133      21.612655\n",
       "min    1920.000000     1.000000      45.000000\n",
       "25%    1997.000000     6.200000      97.000000\n",
       "50%    2007.000000     6.800000     108.000000\n",
       "75%    2014.000000     7.400000     123.000000\n",
       "max    2022.000000     9.300000     321.000000"
      ]
     },
     "execution_count": 79,
     "metadata": {},
     "output_type": "execute_result"
    }
   ],
   "source": [
    "movies.describe()"
   ]
  },
  {
   "cell_type": "code",
   "execution_count": 80,
   "metadata": {},
   "outputs": [
    {
     "name": "stdout",
     "output_type": "stream",
     "text": [
      "<class 'pandas.core.frame.DataFrame'>\n",
      "RangeIndex: 5562 entries, 0 to 5561\n",
      "Data columns (total 10 columns):\n",
      " #   Column         Non-Null Count  Dtype  \n",
      "---  ------         --------------  -----  \n",
      " 0   Movie_Title    5562 non-null   object \n",
      " 1   Year           5562 non-null   int64  \n",
      " 2   Director       5562 non-null   object \n",
      " 3   Actors         5562 non-null   object \n",
      " 4   Rating         5562 non-null   float64\n",
      " 5   Runtime(Mins)  5562 non-null   int64  \n",
      " 6   Censor         5562 non-null   object \n",
      " 7   Total_Gross    5562 non-null   object \n",
      " 8   main_genre     5562 non-null   object \n",
      " 9   side_genre     5562 non-null   object \n",
      "dtypes: float64(1), int64(2), object(7)\n",
      "memory usage: 434.7+ KB\n"
     ]
    }
   ],
   "source": [
    "movies.info()"
   ]
  },
  {
   "cell_type": "code",
   "execution_count": 81,
   "metadata": {},
   "outputs": [
    {
     "data": {
      "text/plain": [
       "Movie_Title      0\n",
       "Year             0\n",
       "Director         0\n",
       "Actors           0\n",
       "Rating           0\n",
       "Runtime(Mins)    0\n",
       "Censor           0\n",
       "Total_Gross      0\n",
       "main_genre       0\n",
       "side_genre       0\n",
       "dtype: int64"
      ]
     },
     "execution_count": 81,
     "metadata": {},
     "output_type": "execute_result"
    }
   ],
   "source": [
    "movies.isnull().sum()"
   ]
  },
  {
   "cell_type": "code",
   "execution_count": 82,
   "metadata": {},
   "outputs": [],
   "source": [
    "movies=movies[['Movie_Title','Director','Actors','main_genre','side_genre']]"
   ]
  },
  {
   "cell_type": "code",
   "execution_count": 83,
   "metadata": {},
   "outputs": [
    {
     "data": {
      "text/html": [
       "<div>\n",
       "<style scoped>\n",
       "    .dataframe tbody tr th:only-of-type {\n",
       "        vertical-align: middle;\n",
       "    }\n",
       "\n",
       "    .dataframe tbody tr th {\n",
       "        vertical-align: top;\n",
       "    }\n",
       "\n",
       "    .dataframe thead th {\n",
       "        text-align: right;\n",
       "    }\n",
       "</style>\n",
       "<table border=\"1\" class=\"dataframe\">\n",
       "  <thead>\n",
       "    <tr style=\"text-align: right;\">\n",
       "      <th></th>\n",
       "      <th>Movie_Title</th>\n",
       "      <th>Director</th>\n",
       "      <th>Actors</th>\n",
       "      <th>main_genre</th>\n",
       "      <th>side_genre</th>\n",
       "    </tr>\n",
       "  </thead>\n",
       "  <tbody>\n",
       "    <tr>\n",
       "      <th>0</th>\n",
       "      <td>Kantara</td>\n",
       "      <td>Rishab Shetty</td>\n",
       "      <td>Rishab Shetty, Sapthami Gowda, Kishore Kumar G...</td>\n",
       "      <td>Action</td>\n",
       "      <td>Adventure,  Drama</td>\n",
       "    </tr>\n",
       "    <tr>\n",
       "      <th>1</th>\n",
       "      <td>The Dark Knight</td>\n",
       "      <td>Christopher Nolan</td>\n",
       "      <td>Christian Bale, Heath Ledger, Aaron Eckhart, M...</td>\n",
       "      <td>Action</td>\n",
       "      <td>Crime,  Drama</td>\n",
       "    </tr>\n",
       "    <tr>\n",
       "      <th>2</th>\n",
       "      <td>The Lord of the Rings: The Return of the King</td>\n",
       "      <td>Peter Jackson</td>\n",
       "      <td>Elijah Wood, Viggo Mortensen, Ian McKellen, Or...</td>\n",
       "      <td>Action</td>\n",
       "      <td>Adventure,  Drama</td>\n",
       "    </tr>\n",
       "    <tr>\n",
       "      <th>3</th>\n",
       "      <td>Inception</td>\n",
       "      <td>Christopher Nolan</td>\n",
       "      <td>Leonardo DiCaprio, Joseph Gordon-Levitt, Ellio...</td>\n",
       "      <td>Action</td>\n",
       "      <td>Adventure,  Sci-Fi</td>\n",
       "    </tr>\n",
       "    <tr>\n",
       "      <th>4</th>\n",
       "      <td>The Lord of the Rings: The Two Towers</td>\n",
       "      <td>Peter Jackson</td>\n",
       "      <td>Elijah Wood, Ian McKellen, Viggo Mortensen, Or...</td>\n",
       "      <td>Action</td>\n",
       "      <td>Adventure,  Drama</td>\n",
       "    </tr>\n",
       "  </tbody>\n",
       "</table>\n",
       "</div>"
      ],
      "text/plain": [
       "                                     Movie_Title           Director  \\\n",
       "0                                        Kantara      Rishab Shetty   \n",
       "1                                The Dark Knight  Christopher Nolan   \n",
       "2  The Lord of the Rings: The Return of the King      Peter Jackson   \n",
       "3                                      Inception  Christopher Nolan   \n",
       "4          The Lord of the Rings: The Two Towers      Peter Jackson   \n",
       "\n",
       "                                              Actors main_genre  \\\n",
       "0  Rishab Shetty, Sapthami Gowda, Kishore Kumar G...     Action   \n",
       "1  Christian Bale, Heath Ledger, Aaron Eckhart, M...     Action   \n",
       "2  Elijah Wood, Viggo Mortensen, Ian McKellen, Or...     Action   \n",
       "3  Leonardo DiCaprio, Joseph Gordon-Levitt, Ellio...     Action   \n",
       "4  Elijah Wood, Ian McKellen, Viggo Mortensen, Or...     Action   \n",
       "\n",
       "            side_genre  \n",
       "0    Adventure,  Drama  \n",
       "1        Crime,  Drama  \n",
       "2    Adventure,  Drama  \n",
       "3   Adventure,  Sci-Fi  \n",
       "4    Adventure,  Drama  "
      ]
     },
     "execution_count": 83,
     "metadata": {},
     "output_type": "execute_result"
    }
   ],
   "source": [
    "movies.head()"
   ]
  },
  {
   "cell_type": "code",
   "execution_count": 84,
   "metadata": {},
   "outputs": [],
   "source": [
    "movies['tags'] = movies['Director'] + ', ' + movies['Actors'] + ', ' + movies['main_genre'] + ', ' + movies['side_genre']"
   ]
  },
  {
   "cell_type": "code",
   "execution_count": 85,
   "metadata": {},
   "outputs": [
    {
     "data": {
      "text/html": [
       "<div>\n",
       "<style scoped>\n",
       "    .dataframe tbody tr th:only-of-type {\n",
       "        vertical-align: middle;\n",
       "    }\n",
       "\n",
       "    .dataframe tbody tr th {\n",
       "        vertical-align: top;\n",
       "    }\n",
       "\n",
       "    .dataframe thead th {\n",
       "        text-align: right;\n",
       "    }\n",
       "</style>\n",
       "<table border=\"1\" class=\"dataframe\">\n",
       "  <thead>\n",
       "    <tr style=\"text-align: right;\">\n",
       "      <th></th>\n",
       "      <th>Movie_Title</th>\n",
       "      <th>Director</th>\n",
       "      <th>Actors</th>\n",
       "      <th>main_genre</th>\n",
       "      <th>side_genre</th>\n",
       "      <th>tags</th>\n",
       "    </tr>\n",
       "  </thead>\n",
       "  <tbody>\n",
       "    <tr>\n",
       "      <th>0</th>\n",
       "      <td>Kantara</td>\n",
       "      <td>Rishab Shetty</td>\n",
       "      <td>Rishab Shetty, Sapthami Gowda, Kishore Kumar G...</td>\n",
       "      <td>Action</td>\n",
       "      <td>Adventure,  Drama</td>\n",
       "      <td>Rishab Shetty, Rishab Shetty, Sapthami Gowda, ...</td>\n",
       "    </tr>\n",
       "    <tr>\n",
       "      <th>1</th>\n",
       "      <td>The Dark Knight</td>\n",
       "      <td>Christopher Nolan</td>\n",
       "      <td>Christian Bale, Heath Ledger, Aaron Eckhart, M...</td>\n",
       "      <td>Action</td>\n",
       "      <td>Crime,  Drama</td>\n",
       "      <td>Christopher Nolan, Christian Bale, Heath Ledge...</td>\n",
       "    </tr>\n",
       "    <tr>\n",
       "      <th>2</th>\n",
       "      <td>The Lord of the Rings: The Return of the King</td>\n",
       "      <td>Peter Jackson</td>\n",
       "      <td>Elijah Wood, Viggo Mortensen, Ian McKellen, Or...</td>\n",
       "      <td>Action</td>\n",
       "      <td>Adventure,  Drama</td>\n",
       "      <td>Peter Jackson, Elijah Wood, Viggo Mortensen, I...</td>\n",
       "    </tr>\n",
       "    <tr>\n",
       "      <th>3</th>\n",
       "      <td>Inception</td>\n",
       "      <td>Christopher Nolan</td>\n",
       "      <td>Leonardo DiCaprio, Joseph Gordon-Levitt, Ellio...</td>\n",
       "      <td>Action</td>\n",
       "      <td>Adventure,  Sci-Fi</td>\n",
       "      <td>Christopher Nolan, Leonardo DiCaprio, Joseph G...</td>\n",
       "    </tr>\n",
       "    <tr>\n",
       "      <th>4</th>\n",
       "      <td>The Lord of the Rings: The Two Towers</td>\n",
       "      <td>Peter Jackson</td>\n",
       "      <td>Elijah Wood, Ian McKellen, Viggo Mortensen, Or...</td>\n",
       "      <td>Action</td>\n",
       "      <td>Adventure,  Drama</td>\n",
       "      <td>Peter Jackson, Elijah Wood, Ian McKellen, Vigg...</td>\n",
       "    </tr>\n",
       "  </tbody>\n",
       "</table>\n",
       "</div>"
      ],
      "text/plain": [
       "                                     Movie_Title           Director  \\\n",
       "0                                        Kantara      Rishab Shetty   \n",
       "1                                The Dark Knight  Christopher Nolan   \n",
       "2  The Lord of the Rings: The Return of the King      Peter Jackson   \n",
       "3                                      Inception  Christopher Nolan   \n",
       "4          The Lord of the Rings: The Two Towers      Peter Jackson   \n",
       "\n",
       "                                              Actors main_genre  \\\n",
       "0  Rishab Shetty, Sapthami Gowda, Kishore Kumar G...     Action   \n",
       "1  Christian Bale, Heath Ledger, Aaron Eckhart, M...     Action   \n",
       "2  Elijah Wood, Viggo Mortensen, Ian McKellen, Or...     Action   \n",
       "3  Leonardo DiCaprio, Joseph Gordon-Levitt, Ellio...     Action   \n",
       "4  Elijah Wood, Ian McKellen, Viggo Mortensen, Or...     Action   \n",
       "\n",
       "            side_genre                                               tags  \n",
       "0    Adventure,  Drama  Rishab Shetty, Rishab Shetty, Sapthami Gowda, ...  \n",
       "1        Crime,  Drama  Christopher Nolan, Christian Bale, Heath Ledge...  \n",
       "2    Adventure,  Drama  Peter Jackson, Elijah Wood, Viggo Mortensen, I...  \n",
       "3   Adventure,  Sci-Fi  Christopher Nolan, Leonardo DiCaprio, Joseph G...  \n",
       "4    Adventure,  Drama  Peter Jackson, Elijah Wood, Ian McKellen, Vigg...  "
      ]
     },
     "execution_count": 85,
     "metadata": {},
     "output_type": "execute_result"
    }
   ],
   "source": [
    "movies.head()"
   ]
  },
  {
   "cell_type": "code",
   "execution_count": 87,
   "metadata": {},
   "outputs": [],
   "source": [
    "movies.drop(['side_genre'],axis=1, inplace=True)"
   ]
  },
  {
   "cell_type": "code",
   "execution_count": 50,
   "metadata": {},
   "outputs": [],
   "source": [
    "# movies.drop(['Director','Actors','main_genre', 'side_genre'], axis=1, inplace=True)"
   ]
  },
  {
   "cell_type": "code",
   "execution_count": 88,
   "metadata": {},
   "outputs": [
    {
     "data": {
      "text/html": [
       "<div>\n",
       "<style scoped>\n",
       "    .dataframe tbody tr th:only-of-type {\n",
       "        vertical-align: middle;\n",
       "    }\n",
       "\n",
       "    .dataframe tbody tr th {\n",
       "        vertical-align: top;\n",
       "    }\n",
       "\n",
       "    .dataframe thead th {\n",
       "        text-align: right;\n",
       "    }\n",
       "</style>\n",
       "<table border=\"1\" class=\"dataframe\">\n",
       "  <thead>\n",
       "    <tr style=\"text-align: right;\">\n",
       "      <th></th>\n",
       "      <th>Movie_Title</th>\n",
       "      <th>Director</th>\n",
       "      <th>Actors</th>\n",
       "      <th>main_genre</th>\n",
       "      <th>tags</th>\n",
       "    </tr>\n",
       "  </thead>\n",
       "  <tbody>\n",
       "    <tr>\n",
       "      <th>0</th>\n",
       "      <td>Kantara</td>\n",
       "      <td>Rishab Shetty</td>\n",
       "      <td>Rishab Shetty, Sapthami Gowda, Kishore Kumar G...</td>\n",
       "      <td>Action</td>\n",
       "      <td>Rishab Shetty, Rishab Shetty, Sapthami Gowda, ...</td>\n",
       "    </tr>\n",
       "    <tr>\n",
       "      <th>1</th>\n",
       "      <td>The Dark Knight</td>\n",
       "      <td>Christopher Nolan</td>\n",
       "      <td>Christian Bale, Heath Ledger, Aaron Eckhart, M...</td>\n",
       "      <td>Action</td>\n",
       "      <td>Christopher Nolan, Christian Bale, Heath Ledge...</td>\n",
       "    </tr>\n",
       "    <tr>\n",
       "      <th>2</th>\n",
       "      <td>The Lord of the Rings: The Return of the King</td>\n",
       "      <td>Peter Jackson</td>\n",
       "      <td>Elijah Wood, Viggo Mortensen, Ian McKellen, Or...</td>\n",
       "      <td>Action</td>\n",
       "      <td>Peter Jackson, Elijah Wood, Viggo Mortensen, I...</td>\n",
       "    </tr>\n",
       "    <tr>\n",
       "      <th>3</th>\n",
       "      <td>Inception</td>\n",
       "      <td>Christopher Nolan</td>\n",
       "      <td>Leonardo DiCaprio, Joseph Gordon-Levitt, Ellio...</td>\n",
       "      <td>Action</td>\n",
       "      <td>Christopher Nolan, Leonardo DiCaprio, Joseph G...</td>\n",
       "    </tr>\n",
       "    <tr>\n",
       "      <th>4</th>\n",
       "      <td>The Lord of the Rings: The Two Towers</td>\n",
       "      <td>Peter Jackson</td>\n",
       "      <td>Elijah Wood, Ian McKellen, Viggo Mortensen, Or...</td>\n",
       "      <td>Action</td>\n",
       "      <td>Peter Jackson, Elijah Wood, Ian McKellen, Vigg...</td>\n",
       "    </tr>\n",
       "  </tbody>\n",
       "</table>\n",
       "</div>"
      ],
      "text/plain": [
       "                                     Movie_Title           Director  \\\n",
       "0                                        Kantara      Rishab Shetty   \n",
       "1                                The Dark Knight  Christopher Nolan   \n",
       "2  The Lord of the Rings: The Return of the King      Peter Jackson   \n",
       "3                                      Inception  Christopher Nolan   \n",
       "4          The Lord of the Rings: The Two Towers      Peter Jackson   \n",
       "\n",
       "                                              Actors main_genre  \\\n",
       "0  Rishab Shetty, Sapthami Gowda, Kishore Kumar G...     Action   \n",
       "1  Christian Bale, Heath Ledger, Aaron Eckhart, M...     Action   \n",
       "2  Elijah Wood, Viggo Mortensen, Ian McKellen, Or...     Action   \n",
       "3  Leonardo DiCaprio, Joseph Gordon-Levitt, Ellio...     Action   \n",
       "4  Elijah Wood, Ian McKellen, Viggo Mortensen, Or...     Action   \n",
       "\n",
       "                                                tags  \n",
       "0  Rishab Shetty, Rishab Shetty, Sapthami Gowda, ...  \n",
       "1  Christopher Nolan, Christian Bale, Heath Ledge...  \n",
       "2  Peter Jackson, Elijah Wood, Viggo Mortensen, I...  \n",
       "3  Christopher Nolan, Leonardo DiCaprio, Joseph G...  \n",
       "4  Peter Jackson, Elijah Wood, Ian McKellen, Vigg...  "
      ]
     },
     "execution_count": 88,
     "metadata": {},
     "output_type": "execute_result"
    }
   ],
   "source": [
    "movies.head()"
   ]
  },
  {
   "cell_type": "code",
   "execution_count": 89,
   "metadata": {},
   "outputs": [
    {
     "data": {
      "text/plain": [
       "0    Rishab Shetty, Rishab Shetty, Sapthami Gowda, ...\n",
       "1    Christopher Nolan, Christian Bale, Heath Ledge...\n",
       "2    Peter Jackson, Elijah Wood, Viggo Mortensen, I...\n",
       "3    Christopher Nolan, Leonardo DiCaprio, Joseph G...\n",
       "4    Peter Jackson, Elijah Wood, Ian McKellen, Vigg...\n",
       "Name: tags, dtype: object"
      ]
     },
     "execution_count": 89,
     "metadata": {},
     "output_type": "execute_result"
    }
   ],
   "source": [
    "movies['tags'].head()"
   ]
  },
  {
   "cell_type": "code",
   "execution_count": 90,
   "metadata": {},
   "outputs": [],
   "source": [
    "cv=CountVectorizer(max_features=10000,stop_words='english')"
   ]
  },
  {
   "cell_type": "code",
   "execution_count": 91,
   "metadata": {},
   "outputs": [
    {
     "data": {
      "text/html": [
       "<style>#sk-container-id-2 {color: black;}#sk-container-id-2 pre{padding: 0;}#sk-container-id-2 div.sk-toggleable {background-color: white;}#sk-container-id-2 label.sk-toggleable__label {cursor: pointer;display: block;width: 100%;margin-bottom: 0;padding: 0.3em;box-sizing: border-box;text-align: center;}#sk-container-id-2 label.sk-toggleable__label-arrow:before {content: \"▸\";float: left;margin-right: 0.25em;color: #696969;}#sk-container-id-2 label.sk-toggleable__label-arrow:hover:before {color: black;}#sk-container-id-2 div.sk-estimator:hover label.sk-toggleable__label-arrow:before {color: black;}#sk-container-id-2 div.sk-toggleable__content {max-height: 0;max-width: 0;overflow: hidden;text-align: left;background-color: #f0f8ff;}#sk-container-id-2 div.sk-toggleable__content pre {margin: 0.2em;color: black;border-radius: 0.25em;background-color: #f0f8ff;}#sk-container-id-2 input.sk-toggleable__control:checked~div.sk-toggleable__content {max-height: 200px;max-width: 100%;overflow: auto;}#sk-container-id-2 input.sk-toggleable__control:checked~label.sk-toggleable__label-arrow:before {content: \"▾\";}#sk-container-id-2 div.sk-estimator input.sk-toggleable__control:checked~label.sk-toggleable__label {background-color: #d4ebff;}#sk-container-id-2 div.sk-label input.sk-toggleable__control:checked~label.sk-toggleable__label {background-color: #d4ebff;}#sk-container-id-2 input.sk-hidden--visually {border: 0;clip: rect(1px 1px 1px 1px);clip: rect(1px, 1px, 1px, 1px);height: 1px;margin: -1px;overflow: hidden;padding: 0;position: absolute;width: 1px;}#sk-container-id-2 div.sk-estimator {font-family: monospace;background-color: #f0f8ff;border: 1px dotted black;border-radius: 0.25em;box-sizing: border-box;margin-bottom: 0.5em;}#sk-container-id-2 div.sk-estimator:hover {background-color: #d4ebff;}#sk-container-id-2 div.sk-parallel-item::after {content: \"\";width: 100%;border-bottom: 1px solid gray;flex-grow: 1;}#sk-container-id-2 div.sk-label:hover label.sk-toggleable__label {background-color: #d4ebff;}#sk-container-id-2 div.sk-serial::before {content: \"\";position: absolute;border-left: 1px solid gray;box-sizing: border-box;top: 0;bottom: 0;left: 50%;z-index: 0;}#sk-container-id-2 div.sk-serial {display: flex;flex-direction: column;align-items: center;background-color: white;padding-right: 0.2em;padding-left: 0.2em;position: relative;}#sk-container-id-2 div.sk-item {position: relative;z-index: 1;}#sk-container-id-2 div.sk-parallel {display: flex;align-items: stretch;justify-content: center;background-color: white;position: relative;}#sk-container-id-2 div.sk-item::before, #sk-container-id-2 div.sk-parallel-item::before {content: \"\";position: absolute;border-left: 1px solid gray;box-sizing: border-box;top: 0;bottom: 0;left: 50%;z-index: -1;}#sk-container-id-2 div.sk-parallel-item {display: flex;flex-direction: column;z-index: 1;position: relative;background-color: white;}#sk-container-id-2 div.sk-parallel-item:first-child::after {align-self: flex-end;width: 50%;}#sk-container-id-2 div.sk-parallel-item:last-child::after {align-self: flex-start;width: 50%;}#sk-container-id-2 div.sk-parallel-item:only-child::after {width: 0;}#sk-container-id-2 div.sk-dashed-wrapped {border: 1px dashed gray;margin: 0 0.4em 0.5em 0.4em;box-sizing: border-box;padding-bottom: 0.4em;background-color: white;}#sk-container-id-2 div.sk-label label {font-family: monospace;font-weight: bold;display: inline-block;line-height: 1.2em;}#sk-container-id-2 div.sk-label-container {text-align: center;}#sk-container-id-2 div.sk-container {/* jupyter's `normalize.less` sets `[hidden] { display: none; }` but bootstrap.min.css set `[hidden] { display: none !important; }` so we also need the `!important` here to be able to override the default hidden behavior on the sphinx rendered scikit-learn.org. See: https://github.com/scikit-learn/scikit-learn/issues/21755 */display: inline-block !important;position: relative;}#sk-container-id-2 div.sk-text-repr-fallback {display: none;}</style><div id=\"sk-container-id-2\" class=\"sk-top-container\"><div class=\"sk-text-repr-fallback\"><pre>CountVectorizer(max_features=10000, stop_words=&#x27;english&#x27;)</pre><b>In a Jupyter environment, please rerun this cell to show the HTML representation or trust the notebook. <br />On GitHub, the HTML representation is unable to render, please try loading this page with nbviewer.org.</b></div><div class=\"sk-container\" hidden><div class=\"sk-item\"><div class=\"sk-estimator sk-toggleable\"><input class=\"sk-toggleable__control sk-hidden--visually\" id=\"sk-estimator-id-2\" type=\"checkbox\" checked><label for=\"sk-estimator-id-2\" class=\"sk-toggleable__label sk-toggleable__label-arrow\">CountVectorizer</label><div class=\"sk-toggleable__content\"><pre>CountVectorizer(max_features=10000, stop_words=&#x27;english&#x27;)</pre></div></div></div></div></div>"
      ],
      "text/plain": [
       "CountVectorizer(max_features=10000, stop_words='english')"
      ]
     },
     "execution_count": 91,
     "metadata": {},
     "output_type": "execute_result"
    }
   ],
   "source": [
    "cv"
   ]
  },
  {
   "cell_type": "code",
   "execution_count": 92,
   "metadata": {},
   "outputs": [],
   "source": [
    "vector=cv.fit_transform(movies['tags']).toarray()"
   ]
  },
  {
   "cell_type": "code",
   "execution_count": 93,
   "metadata": {},
   "outputs": [
    {
     "data": {
      "text/plain": [
       "array([[0, 0, 0, ..., 0, 0, 0],\n",
       "       [0, 0, 0, ..., 0, 0, 0],\n",
       "       [0, 0, 0, ..., 0, 0, 0],\n",
       "       ...,\n",
       "       [0, 0, 0, ..., 0, 0, 0],\n",
       "       [0, 0, 0, ..., 0, 0, 0],\n",
       "       [0, 0, 0, ..., 0, 0, 0]])"
      ]
     },
     "execution_count": 93,
     "metadata": {},
     "output_type": "execute_result"
    }
   ],
   "source": [
    "vector"
   ]
  },
  {
   "cell_type": "code",
   "execution_count": 94,
   "metadata": {},
   "outputs": [
    {
     "data": {
      "text/plain": [
       "(5562, 10000)"
      ]
     },
     "execution_count": 94,
     "metadata": {},
     "output_type": "execute_result"
    }
   ],
   "source": [
    "vector.shape"
   ]
  },
  {
   "cell_type": "code",
   "execution_count": 95,
   "metadata": {},
   "outputs": [],
   "source": [
    "similarity=cosine_similarity(vector)"
   ]
  },
  {
   "cell_type": "code",
   "execution_count": 96,
   "metadata": {},
   "outputs": [
    {
     "data": {
      "text/plain": [
       "array([[1.        , 0.13453456, 0.20180184, ..., 0.        , 0.        ,\n",
       "        0.        ],\n",
       "       [0.13453456, 1.        , 0.15384615, ..., 0.        , 0.        ,\n",
       "        0.        ],\n",
       "       [0.20180184, 0.15384615, 1.        , ..., 0.        , 0.        ,\n",
       "        0.        ],\n",
       "       ...,\n",
       "       [0.        , 0.        , 0.        , ..., 1.        , 0.07412493,\n",
       "        0.18490007],\n",
       "       [0.        , 0.        , 0.        , ..., 0.07412493, 1.        ,\n",
       "        0.17817416],\n",
       "       [0.        , 0.        , 0.        , ..., 0.18490007, 0.17817416,\n",
       "        1.        ]])"
      ]
     },
     "execution_count": 96,
     "metadata": {},
     "output_type": "execute_result"
    }
   ],
   "source": [
    "similarity"
   ]
  },
  {
   "cell_type": "code",
   "execution_count": 97,
   "metadata": {},
   "outputs": [
    {
     "data": {
      "text/plain": [
       "2188"
      ]
     },
     "execution_count": 97,
     "metadata": {},
     "output_type": "execute_result"
    }
   ],
   "source": [
    "movies[movies['main_genre']=='Drama'].index[0]"
   ]
  },
  {
   "cell_type": "code",
   "execution_count": 98,
   "metadata": {},
   "outputs": [],
   "source": [
    "distance=sorted(list(enumerate(similarity[1])),reverse=True,key=lambda vector:vector[1])\n"
   ]
  },
  {
   "cell_type": "code",
   "execution_count": 99,
   "metadata": {},
   "outputs": [
    {
     "name": "stdout",
     "output_type": "stream",
     "text": [
      "The Dark Knight\n",
      "Batman Begins\n",
      "The Prestige\n",
      "The Dark Knight Rises\n",
      "Public Enemies\n"
     ]
    }
   ],
   "source": [
    "for i in distance[0:5]:\n",
    "    print(movies.iloc[i[0]].Movie_Title)"
   ]
  },
  {
   "cell_type": "code",
   "execution_count": 108,
   "metadata": {},
   "outputs": [],
   "source": [
    "def recommendation(film):\n",
    "    index=movies[movies['main_genre']==film].index[0]\n",
    "    distance=sorted(list(enumerate(similarity[index])),reverse=True,key=lambda vector:vector[1])\n",
    "    for i in distance[1:10]:\n",
    "        print(movies.iloc[i[0]].Movie_Title)"
   ]
  },
  {
   "cell_type": "code",
   "execution_count": 109,
   "metadata": {},
   "outputs": [],
   "source": [
    "# def recommendation_director(Director):\n",
    "#     index=movies[movies['Director']==Director].index[0]\n",
    "#     distance=sorted(list(enumerate(similarity[index])),reverse=True,key=lambda vector:vector[1])\n",
    "#     for i in distance[1:10]:\n",
    "#         print(movies.iloc[i[0]].Movie_Title)"
   ]
  },
  {
   "cell_type": "code",
   "execution_count": 110,
   "metadata": {},
   "outputs": [
    {
     "name": "stdout",
     "output_type": "stream",
     "text": [
      "Once Upon a Time... in Hollywood\n",
      "Ray\n",
      "What's Eating Gilbert Grape\n",
      "Marvin's Room\n",
      "Fences\n",
      "Dreamgirls\n",
      "The Revenant\n",
      "The Aviator\n",
      "The Basketball Diaries\n"
     ]
    }
   ],
   "source": [
    "recommendation('Drama')"
   ]
  },
  {
   "cell_type": "code",
   "execution_count": 103,
   "metadata": {},
   "outputs": [],
   "source": [
    "# recommendation_director('Christopher Nolan')"
   ]
  },
  {
   "cell_type": "code",
   "execution_count": 104,
   "metadata": {},
   "outputs": [
    {
     "data": {
      "text/plain": [
       "['movie_list1.joblib']"
      ]
     },
     "execution_count": 104,
     "metadata": {},
     "output_type": "execute_result"
    }
   ],
   "source": [
    "joblib.dump(movies,'movie_list1.joblib')"
   ]
  },
  {
   "cell_type": "code",
   "execution_count": 105,
   "metadata": {},
   "outputs": [
    {
     "data": {
      "text/plain": [
       "['similarity1.joblib']"
      ]
     },
     "execution_count": 105,
     "metadata": {},
     "output_type": "execute_result"
    }
   ],
   "source": [
    "joblib.dump(similarity,'similarity1.joblib')"
   ]
  },
  {
   "cell_type": "code",
   "execution_count": 106,
   "metadata": {},
   "outputs": [
    {
     "data": {
      "text/html": [
       "<div>\n",
       "<style scoped>\n",
       "    .dataframe tbody tr th:only-of-type {\n",
       "        vertical-align: middle;\n",
       "    }\n",
       "\n",
       "    .dataframe tbody tr th {\n",
       "        vertical-align: top;\n",
       "    }\n",
       "\n",
       "    .dataframe thead th {\n",
       "        text-align: right;\n",
       "    }\n",
       "</style>\n",
       "<table border=\"1\" class=\"dataframe\">\n",
       "  <thead>\n",
       "    <tr style=\"text-align: right;\">\n",
       "      <th></th>\n",
       "      <th>Movie_Title</th>\n",
       "      <th>Director</th>\n",
       "      <th>Actors</th>\n",
       "      <th>main_genre</th>\n",
       "      <th>tags</th>\n",
       "    </tr>\n",
       "  </thead>\n",
       "  <tbody>\n",
       "    <tr>\n",
       "      <th>0</th>\n",
       "      <td>Kantara</td>\n",
       "      <td>Rishab Shetty</td>\n",
       "      <td>Rishab Shetty, Sapthami Gowda, Kishore Kumar G...</td>\n",
       "      <td>Action</td>\n",
       "      <td>Rishab Shetty, Rishab Shetty, Sapthami Gowda, ...</td>\n",
       "    </tr>\n",
       "    <tr>\n",
       "      <th>1</th>\n",
       "      <td>The Dark Knight</td>\n",
       "      <td>Christopher Nolan</td>\n",
       "      <td>Christian Bale, Heath Ledger, Aaron Eckhart, M...</td>\n",
       "      <td>Action</td>\n",
       "      <td>Christopher Nolan, Christian Bale, Heath Ledge...</td>\n",
       "    </tr>\n",
       "    <tr>\n",
       "      <th>2</th>\n",
       "      <td>The Lord of the Rings: The Return of the King</td>\n",
       "      <td>Peter Jackson</td>\n",
       "      <td>Elijah Wood, Viggo Mortensen, Ian McKellen, Or...</td>\n",
       "      <td>Action</td>\n",
       "      <td>Peter Jackson, Elijah Wood, Viggo Mortensen, I...</td>\n",
       "    </tr>\n",
       "    <tr>\n",
       "      <th>3</th>\n",
       "      <td>Inception</td>\n",
       "      <td>Christopher Nolan</td>\n",
       "      <td>Leonardo DiCaprio, Joseph Gordon-Levitt, Ellio...</td>\n",
       "      <td>Action</td>\n",
       "      <td>Christopher Nolan, Leonardo DiCaprio, Joseph G...</td>\n",
       "    </tr>\n",
       "    <tr>\n",
       "      <th>4</th>\n",
       "      <td>The Lord of the Rings: The Two Towers</td>\n",
       "      <td>Peter Jackson</td>\n",
       "      <td>Elijah Wood, Ian McKellen, Viggo Mortensen, Or...</td>\n",
       "      <td>Action</td>\n",
       "      <td>Peter Jackson, Elijah Wood, Ian McKellen, Vigg...</td>\n",
       "    </tr>\n",
       "    <tr>\n",
       "      <th>...</th>\n",
       "      <td>...</td>\n",
       "      <td>...</td>\n",
       "      <td>...</td>\n",
       "      <td>...</td>\n",
       "      <td>...</td>\n",
       "    </tr>\n",
       "    <tr>\n",
       "      <th>5557</th>\n",
       "      <td>Disaster Movie</td>\n",
       "      <td>Directors:Jason Friedberg, Aaron Seltzer</td>\n",
       "      <td>Carmen Electra, Vanessa Lachey, Nicole Parker,...</td>\n",
       "      <td>Comedy</td>\n",
       "      <td>Directors:Jason Friedberg, Aaron Seltzer, Carm...</td>\n",
       "    </tr>\n",
       "    <tr>\n",
       "      <th>5558</th>\n",
       "      <td>The Hottie &amp; the Nottie</td>\n",
       "      <td>Tom Putnam</td>\n",
       "      <td>Paris Hilton, Joel David Moore, Christine Laki...</td>\n",
       "      <td>Comedy</td>\n",
       "      <td>Tom Putnam, Paris Hilton, Joel David Moore, Ch...</td>\n",
       "    </tr>\n",
       "    <tr>\n",
       "      <th>5559</th>\n",
       "      <td>From Justin to Kelly</td>\n",
       "      <td>Robert Iscove</td>\n",
       "      <td>Kelly Clarkson, Justin Guarini, Katherine Bail...</td>\n",
       "      <td>Comedy</td>\n",
       "      <td>Robert Iscove, Kelly Clarkson, Justin Guarini,...</td>\n",
       "    </tr>\n",
       "    <tr>\n",
       "      <th>5560</th>\n",
       "      <td>Superbabies: Baby Geniuses 2</td>\n",
       "      <td>Bob Clark</td>\n",
       "      <td>Jon Voight, Scott Baio, Vanessa Angel, Skyler ...</td>\n",
       "      <td>Comedy</td>\n",
       "      <td>Bob Clark, Jon Voight, Scott Baio, Vanessa Ang...</td>\n",
       "    </tr>\n",
       "    <tr>\n",
       "      <th>5561</th>\n",
       "      <td>Cumali Ceber: Allah Seni Alsin</td>\n",
       "      <td>Gökhan Gök</td>\n",
       "      <td>Halil Söyletmez, Doga Konakoglu, Emre Keskin, ...</td>\n",
       "      <td>Comedy</td>\n",
       "      <td>Gökhan Gök, Halil Söyletmez, Doga Konakoglu, E...</td>\n",
       "    </tr>\n",
       "  </tbody>\n",
       "</table>\n",
       "<p>5562 rows × 5 columns</p>\n",
       "</div>"
      ],
      "text/plain": [
       "                                        Movie_Title  \\\n",
       "0                                           Kantara   \n",
       "1                                   The Dark Knight   \n",
       "2     The Lord of the Rings: The Return of the King   \n",
       "3                                         Inception   \n",
       "4             The Lord of the Rings: The Two Towers   \n",
       "...                                             ...   \n",
       "5557                                 Disaster Movie   \n",
       "5558                        The Hottie & the Nottie   \n",
       "5559                           From Justin to Kelly   \n",
       "5560                   Superbabies: Baby Geniuses 2   \n",
       "5561                 Cumali Ceber: Allah Seni Alsin   \n",
       "\n",
       "                                      Director  \\\n",
       "0                                Rishab Shetty   \n",
       "1                            Christopher Nolan   \n",
       "2                                Peter Jackson   \n",
       "3                            Christopher Nolan   \n",
       "4                                Peter Jackson   \n",
       "...                                        ...   \n",
       "5557  Directors:Jason Friedberg, Aaron Seltzer   \n",
       "5558                                Tom Putnam   \n",
       "5559                             Robert Iscove   \n",
       "5560                                 Bob Clark   \n",
       "5561                                Gökhan Gök   \n",
       "\n",
       "                                                 Actors main_genre  \\\n",
       "0     Rishab Shetty, Sapthami Gowda, Kishore Kumar G...     Action   \n",
       "1     Christian Bale, Heath Ledger, Aaron Eckhart, M...     Action   \n",
       "2     Elijah Wood, Viggo Mortensen, Ian McKellen, Or...     Action   \n",
       "3     Leonardo DiCaprio, Joseph Gordon-Levitt, Ellio...     Action   \n",
       "4     Elijah Wood, Ian McKellen, Viggo Mortensen, Or...     Action   \n",
       "...                                                 ...        ...   \n",
       "5557  Carmen Electra, Vanessa Lachey, Nicole Parker,...     Comedy   \n",
       "5558  Paris Hilton, Joel David Moore, Christine Laki...     Comedy   \n",
       "5559  Kelly Clarkson, Justin Guarini, Katherine Bail...     Comedy   \n",
       "5560  Jon Voight, Scott Baio, Vanessa Angel, Skyler ...     Comedy   \n",
       "5561  Halil Söyletmez, Doga Konakoglu, Emre Keskin, ...     Comedy   \n",
       "\n",
       "                                                   tags  \n",
       "0     Rishab Shetty, Rishab Shetty, Sapthami Gowda, ...  \n",
       "1     Christopher Nolan, Christian Bale, Heath Ledge...  \n",
       "2     Peter Jackson, Elijah Wood, Viggo Mortensen, I...  \n",
       "3     Christopher Nolan, Leonardo DiCaprio, Joseph G...  \n",
       "4     Peter Jackson, Elijah Wood, Ian McKellen, Vigg...  \n",
       "...                                                 ...  \n",
       "5557  Directors:Jason Friedberg, Aaron Seltzer, Carm...  \n",
       "5558  Tom Putnam, Paris Hilton, Joel David Moore, Ch...  \n",
       "5559  Robert Iscove, Kelly Clarkson, Justin Guarini,...  \n",
       "5560  Bob Clark, Jon Voight, Scott Baio, Vanessa Ang...  \n",
       "5561  Gökhan Gök, Halil Söyletmez, Doga Konakoglu, E...  \n",
       "\n",
       "[5562 rows x 5 columns]"
      ]
     },
     "execution_count": 106,
     "metadata": {},
     "output_type": "execute_result"
    }
   ],
   "source": [
    "joblib.load('movie_list1.joblib')"
   ]
  },
  {
   "cell_type": "code",
   "execution_count": 107,
   "metadata": {},
   "outputs": [
    {
     "data": {
      "text/plain": [
       "array([[1.        , 0.13453456, 0.20180184, ..., 0.        , 0.        ,\n",
       "        0.        ],\n",
       "       [0.13453456, 1.        , 0.15384615, ..., 0.        , 0.        ,\n",
       "        0.        ],\n",
       "       [0.20180184, 0.15384615, 1.        , ..., 0.        , 0.        ,\n",
       "        0.        ],\n",
       "       ...,\n",
       "       [0.        , 0.        , 0.        , ..., 1.        , 0.07412493,\n",
       "        0.18490007],\n",
       "       [0.        , 0.        , 0.        , ..., 0.07412493, 1.        ,\n",
       "        0.17817416],\n",
       "       [0.        , 0.        , 0.        , ..., 0.18490007, 0.17817416,\n",
       "        1.        ]])"
      ]
     },
     "execution_count": 107,
     "metadata": {},
     "output_type": "execute_result"
    }
   ],
   "source": [
    "joblib.load('similarity1.joblib')"
   ]
  },
  {
   "cell_type": "code",
   "execution_count": 240,
   "metadata": {},
   "outputs": [
    {
     "data": {
      "text/plain": [
       "(5562, 2)"
      ]
     },
     "execution_count": 240,
     "metadata": {},
     "output_type": "execute_result"
    }
   ],
   "source": [
    "movies.shape"
   ]
  },
  {
   "cell_type": "code",
   "execution_count": null,
   "metadata": {},
   "outputs": [],
   "source": []
  },
  {
   "cell_type": "code",
   "execution_count": null,
   "metadata": {},
   "outputs": [],
   "source": []
  },
  {
   "cell_type": "code",
   "execution_count": null,
   "metadata": {},
   "outputs": [],
   "source": []
  }
 ],
 "metadata": {
  "kernelspec": {
   "display_name": "Python 3",
   "language": "python",
   "name": "python3"
  },
  "language_info": {
   "codemirror_mode": {
    "name": "ipython",
    "version": 3
   },
   "file_extension": ".py",
   "mimetype": "text/x-python",
   "name": "python",
   "nbconvert_exporter": "python",
   "pygments_lexer": "ipython3",
   "version": "3.8.10"
  }
 },
 "nbformat": 4,
 "nbformat_minor": 2
}
